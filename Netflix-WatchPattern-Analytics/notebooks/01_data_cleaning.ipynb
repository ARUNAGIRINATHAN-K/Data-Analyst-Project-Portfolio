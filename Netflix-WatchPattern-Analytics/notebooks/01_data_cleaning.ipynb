{
 "cells": [
  {
   "cell_type": "code",
   "execution_count": 1,
   "id": "78c15952",
   "metadata": {},
   "outputs": [],
   "source": [
    "import pandas as pd"
   ]
  },
  {
   "cell_type": "code",
   "execution_count": 2,
   "id": "730fa474",
   "metadata": {},
   "outputs": [],
   "source": [
    "\n",
    "# Load data\n",
    "df = pd.read_csv(\"/workspaces/Data-Analyst-Project-Portfolio/Netflix-WatchPattern-Analytics/data/netflix_watch_pattern_dataset.csv\")"
   ]
  },
  {
   "cell_type": "code",
   "execution_count": 3,
   "id": "0acbd05f",
   "metadata": {},
   "outputs": [
    {
     "name": "stdout",
     "output_type": "stream",
     "text": [
      "<class 'pandas.core.frame.DataFrame'>\n",
      "RangeIndex: 120 entries, 0 to 119\n",
      "Data columns (total 9 columns):\n",
      " #   Column                  Non-Null Count  Dtype  \n",
      "---  ------                  --------------  -----  \n",
      " 0   User_ID                 120 non-null    object \n",
      " 1   Video_Title             120 non-null    object \n",
      " 2   Genre                   120 non-null    object \n",
      " 3   Watch_Date              120 non-null    object \n",
      " 4   Start_Time              120 non-null    object \n",
      " 5   Watch_Duration_Minutes  120 non-null    float64\n",
      " 6   Total_Video_Duration    120 non-null    float64\n",
      " 7   Device_Type             120 non-null    object \n",
      " 8   Completed               120 non-null    object \n",
      "dtypes: float64(2), object(7)\n",
      "memory usage: 8.6+ KB\n"
     ]
    }
   ],
   "source": [
    "df.info()"
   ]
  },
  {
   "cell_type": "code",
   "execution_count": 4,
   "id": "c09c56ec",
   "metadata": {},
   "outputs": [
    {
     "data": {
      "text/html": [
       "<div>\n",
       "<style scoped>\n",
       "    .dataframe tbody tr th:only-of-type {\n",
       "        vertical-align: middle;\n",
       "    }\n",
       "\n",
       "    .dataframe tbody tr th {\n",
       "        vertical-align: top;\n",
       "    }\n",
       "\n",
       "    .dataframe thead th {\n",
       "        text-align: right;\n",
       "    }\n",
       "</style>\n",
       "<table border=\"1\" class=\"dataframe\">\n",
       "  <thead>\n",
       "    <tr style=\"text-align: right;\">\n",
       "      <th></th>\n",
       "      <th>User_ID</th>\n",
       "      <th>Video_Title</th>\n",
       "      <th>Genre</th>\n",
       "      <th>Watch_Date</th>\n",
       "      <th>Start_Time</th>\n",
       "      <th>Watch_Duration_Minutes</th>\n",
       "      <th>Total_Video_Duration</th>\n",
       "      <th>Device_Type</th>\n",
       "      <th>Completed</th>\n",
       "    </tr>\n",
       "  </thead>\n",
       "  <tbody>\n",
       "    <tr>\n",
       "      <th>0</th>\n",
       "      <td>user_16</td>\n",
       "      <td>Drama Movie 5</td>\n",
       "      <td>Drama</td>\n",
       "      <td>2024-02-05</td>\n",
       "      <td>18:45</td>\n",
       "      <td>96.83</td>\n",
       "      <td>128.30</td>\n",
       "      <td>Smart TV</td>\n",
       "      <td>No</td>\n",
       "    </tr>\n",
       "    <tr>\n",
       "      <th>1</th>\n",
       "      <td>user_13</td>\n",
       "      <td>Thriller Movie 4</td>\n",
       "      <td>Thriller</td>\n",
       "      <td>2024-04-08</td>\n",
       "      <td>06:34</td>\n",
       "      <td>60.87</td>\n",
       "      <td>68.73</td>\n",
       "      <td>Smart TV</td>\n",
       "      <td>Yes</td>\n",
       "    </tr>\n",
       "    <tr>\n",
       "      <th>2</th>\n",
       "      <td>user_11</td>\n",
       "      <td>Thriller Movie 5</td>\n",
       "      <td>Thriller</td>\n",
       "      <td>2024-02-21</td>\n",
       "      <td>06:49</td>\n",
       "      <td>34.88</td>\n",
       "      <td>92.27</td>\n",
       "      <td>Desktop</td>\n",
       "      <td>No</td>\n",
       "    </tr>\n",
       "    <tr>\n",
       "      <th>3</th>\n",
       "      <td>user_12</td>\n",
       "      <td>Drama Movie 5</td>\n",
       "      <td>Drama</td>\n",
       "      <td>2024-04-15</td>\n",
       "      <td>01:36</td>\n",
       "      <td>113.35</td>\n",
       "      <td>118.46</td>\n",
       "      <td>Laptop</td>\n",
       "      <td>Yes</td>\n",
       "    </tr>\n",
       "    <tr>\n",
       "      <th>4</th>\n",
       "      <td>user_18</td>\n",
       "      <td>Romance Movie 5</td>\n",
       "      <td>Romance</td>\n",
       "      <td>2024-05-12</td>\n",
       "      <td>03:15</td>\n",
       "      <td>36.07</td>\n",
       "      <td>92.33</td>\n",
       "      <td>Smart TV</td>\n",
       "      <td>No</td>\n",
       "    </tr>\n",
       "  </tbody>\n",
       "</table>\n",
       "</div>"
      ],
      "text/plain": [
       "   User_ID       Video_Title     Genre  Watch_Date Start_Time  \\\n",
       "0  user_16     Drama Movie 5     Drama  2024-02-05      18:45   \n",
       "1  user_13  Thriller Movie 4  Thriller  2024-04-08      06:34   \n",
       "2  user_11  Thriller Movie 5  Thriller  2024-02-21      06:49   \n",
       "3  user_12     Drama Movie 5     Drama  2024-04-15      01:36   \n",
       "4  user_18   Romance Movie 5   Romance  2024-05-12      03:15   \n",
       "\n",
       "   Watch_Duration_Minutes  Total_Video_Duration Device_Type Completed  \n",
       "0                   96.83                128.30    Smart TV        No  \n",
       "1                   60.87                 68.73    Smart TV       Yes  \n",
       "2                   34.88                 92.27     Desktop        No  \n",
       "3                  113.35                118.46      Laptop       Yes  \n",
       "4                   36.07                 92.33    Smart TV        No  "
      ]
     },
     "execution_count": 4,
     "metadata": {},
     "output_type": "execute_result"
    }
   ],
   "source": [
    "df.head()"
   ]
  },
  {
   "cell_type": "code",
   "execution_count": 6,
   "id": "ed16c7c6",
   "metadata": {},
   "outputs": [],
   "source": [
    "df['Watch_Date'] = pd.to_datetime(df['Watch_Date'], errors='coerce')"
   ]
  },
  {
   "cell_type": "code",
   "execution_count": 7,
   "id": "338c7512",
   "metadata": {},
   "outputs": [],
   "source": [
    "df.dropna(subset=['Watch_Date', 'Video_Title'], inplace=True)"
   ]
  },
  {
   "cell_type": "code",
   "execution_count": 8,
   "metadata": {},
   "outputs": [],
   "source": [
    "df['Video_Title'] = df['Video_Title'].str.strip()"
   ]
  },
  {
   "cell_type": "code",
   "execution_count": 10,
   "metadata": {},
   "outputs": [],
   "source": [
    "df.to_csv(\"/workspaces/Data-Analyst-Project-Portfolio/Netflix-WatchPattern-Analytics/data/netflix_cleaned.csv\", index=False)"
   ]
  }
 ],
 "metadata": {
  "kernelspec": {
   "display_name": "Python 3",
   "language": "python",
   "name": "python3"
  },
  "language_info": {
   "codemirror_mode": {
    "name": "ipython",
    "version": 3
   },
   "file_extension": ".py",
   "mimetype": "text/x-python",
   "name": "python",
   "nbconvert_exporter": "python",
   "pygments_lexer": "ipython3",
   "version": "3.12.1"
  }
 },
 "nbformat": 4,
 "nbformat_minor": 5
}
