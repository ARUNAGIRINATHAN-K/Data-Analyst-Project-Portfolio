{
 "cells": [
  {
   "cell_type": "code",
   "execution_count": 1,
   "id": "298392a2",
   "metadata": {},
   "outputs": [],
   "source": [
    "import pandas as pd\n",
    "import matplotlib.pyplot as plt\n",
    "import seaborn as sns\n",
    "from datetime import datetime"
   ]
  },
  {
   "cell_type": "code",
   "execution_count": 3,
   "id": "c6425dd1",
   "metadata": {},
   "outputs": [],
   "source": [
    "df = pd.read_csv(\"/workspaces/Data-Analyst-Project-Portfolio/Netflix-WatchPattern-Analytics/data/netflix_cleaned.csv\")"
   ]
  },
  {
   "cell_type": "code",
   "execution_count": 5,
   "id": "07cab39c",
   "metadata": {},
   "outputs": [],
   "source": [
    "df['Date'] = pd.to_datetime(df['Watch_Date'])\n",
    "df['Year'] = df['Date'].dt.year\n",
    "df['Month'] = df['Date'].dt.month_name()\n",
    "df['Day'] = df['Date'].dt.day\n",
    "df['Weekday'] = df['Date'].dt.day_name()"
   ]
  },
  {
   "cell_type": "code",
   "execution_count": 6,
   "id": "a8167266",
   "metadata": {},
   "outputs": [
    {
     "name": "stdout",
     "output_type": "stream",
     "text": [
      "Dataset shape: (120, 14)\n"
     ]
    },
    {
     "data": {
      "text/html": [
       "<div>\n",
       "<style scoped>\n",
       "    .dataframe tbody tr th:only-of-type {\n",
       "        vertical-align: middle;\n",
       "    }\n",
       "\n",
       "    .dataframe tbody tr th {\n",
       "        vertical-align: top;\n",
       "    }\n",
       "\n",
       "    .dataframe thead th {\n",
       "        text-align: right;\n",
       "    }\n",
       "</style>\n",
       "<table border=\"1\" class=\"dataframe\">\n",
       "  <thead>\n",
       "    <tr style=\"text-align: right;\">\n",
       "      <th></th>\n",
       "      <th>User_ID</th>\n",
       "      <th>Video_Title</th>\n",
       "      <th>Genre</th>\n",
       "      <th>Watch_Date</th>\n",
       "      <th>Start_Time</th>\n",
       "      <th>Watch_Duration_Minutes</th>\n",
       "      <th>Total_Video_Duration</th>\n",
       "      <th>Device_Type</th>\n",
       "      <th>Completed</th>\n",
       "      <th>Date</th>\n",
       "      <th>Year</th>\n",
       "      <th>Month</th>\n",
       "      <th>Day</th>\n",
       "      <th>Weekday</th>\n",
       "    </tr>\n",
       "  </thead>\n",
       "  <tbody>\n",
       "    <tr>\n",
       "      <th>0</th>\n",
       "      <td>user_16</td>\n",
       "      <td>Drama Movie 5</td>\n",
       "      <td>Drama</td>\n",
       "      <td>2024-02-05</td>\n",
       "      <td>18:45</td>\n",
       "      <td>96.83</td>\n",
       "      <td>128.30</td>\n",
       "      <td>Smart TV</td>\n",
       "      <td>No</td>\n",
       "      <td>2024-02-05</td>\n",
       "      <td>2024</td>\n",
       "      <td>February</td>\n",
       "      <td>5</td>\n",
       "      <td>Monday</td>\n",
       "    </tr>\n",
       "    <tr>\n",
       "      <th>1</th>\n",
       "      <td>user_13</td>\n",
       "      <td>Thriller Movie 4</td>\n",
       "      <td>Thriller</td>\n",
       "      <td>2024-04-08</td>\n",
       "      <td>06:34</td>\n",
       "      <td>60.87</td>\n",
       "      <td>68.73</td>\n",
       "      <td>Smart TV</td>\n",
       "      <td>Yes</td>\n",
       "      <td>2024-04-08</td>\n",
       "      <td>2024</td>\n",
       "      <td>April</td>\n",
       "      <td>8</td>\n",
       "      <td>Monday</td>\n",
       "    </tr>\n",
       "    <tr>\n",
       "      <th>2</th>\n",
       "      <td>user_11</td>\n",
       "      <td>Thriller Movie 5</td>\n",
       "      <td>Thriller</td>\n",
       "      <td>2024-02-21</td>\n",
       "      <td>06:49</td>\n",
       "      <td>34.88</td>\n",
       "      <td>92.27</td>\n",
       "      <td>Desktop</td>\n",
       "      <td>No</td>\n",
       "      <td>2024-02-21</td>\n",
       "      <td>2024</td>\n",
       "      <td>February</td>\n",
       "      <td>21</td>\n",
       "      <td>Wednesday</td>\n",
       "    </tr>\n",
       "    <tr>\n",
       "      <th>3</th>\n",
       "      <td>user_12</td>\n",
       "      <td>Drama Movie 5</td>\n",
       "      <td>Drama</td>\n",
       "      <td>2024-04-15</td>\n",
       "      <td>01:36</td>\n",
       "      <td>113.35</td>\n",
       "      <td>118.46</td>\n",
       "      <td>Laptop</td>\n",
       "      <td>Yes</td>\n",
       "      <td>2024-04-15</td>\n",
       "      <td>2024</td>\n",
       "      <td>April</td>\n",
       "      <td>15</td>\n",
       "      <td>Monday</td>\n",
       "    </tr>\n",
       "    <tr>\n",
       "      <th>4</th>\n",
       "      <td>user_18</td>\n",
       "      <td>Romance Movie 5</td>\n",
       "      <td>Romance</td>\n",
       "      <td>2024-05-12</td>\n",
       "      <td>03:15</td>\n",
       "      <td>36.07</td>\n",
       "      <td>92.33</td>\n",
       "      <td>Smart TV</td>\n",
       "      <td>No</td>\n",
       "      <td>2024-05-12</td>\n",
       "      <td>2024</td>\n",
       "      <td>May</td>\n",
       "      <td>12</td>\n",
       "      <td>Sunday</td>\n",
       "    </tr>\n",
       "  </tbody>\n",
       "</table>\n",
       "</div>"
      ],
      "text/plain": [
       "   User_ID       Video_Title     Genre  Watch_Date Start_Time  \\\n",
       "0  user_16     Drama Movie 5     Drama  2024-02-05      18:45   \n",
       "1  user_13  Thriller Movie 4  Thriller  2024-04-08      06:34   \n",
       "2  user_11  Thriller Movie 5  Thriller  2024-02-21      06:49   \n",
       "3  user_12     Drama Movie 5     Drama  2024-04-15      01:36   \n",
       "4  user_18   Romance Movie 5   Romance  2024-05-12      03:15   \n",
       "\n",
       "   Watch_Duration_Minutes  Total_Video_Duration Device_Type Completed  \\\n",
       "0                   96.83                128.30    Smart TV        No   \n",
       "1                   60.87                 68.73    Smart TV       Yes   \n",
       "2                   34.88                 92.27     Desktop        No   \n",
       "3                  113.35                118.46      Laptop       Yes   \n",
       "4                   36.07                 92.33    Smart TV        No   \n",
       "\n",
       "        Date  Year     Month  Day    Weekday  \n",
       "0 2024-02-05  2024  February    5     Monday  \n",
       "1 2024-04-08  2024     April    8     Monday  \n",
       "2 2024-02-21  2024  February   21  Wednesday  \n",
       "3 2024-04-15  2024     April   15     Monday  \n",
       "4 2024-05-12  2024       May   12     Sunday  "
      ]
     },
     "metadata": {},
     "output_type": "display_data"
    }
   ],
   "source": [
    "print(\"Dataset shape:\", df.shape)\n",
    "display(df.head())"
   ]
  },
  {
   "cell_type": "code",
   "execution_count": 7,
   "id": "9b30fe3a",
   "metadata": {},
   "outputs": [
    {
     "name": "stderr",
     "output_type": "stream",
     "text": [
      "/tmp/ipykernel_3854/3233951121.py:3: FutureWarning: \n",
      "\n",
      "Passing `palette` without assigning `hue` is deprecated and will be removed in v0.14.0. Assign the `x` variable to `hue` and set `legend=False` for the same effect.\n",
      "\n",
      "  sns.barplot(x=yearly_counts.index, y=yearly_counts.values, palette=\"Blues_d\")\n"
     ]
    },
    {
     "data": {
      "image/png": "[encoded data removed]",
      "text/plain": [
       "<Figure size 640x480 with 1 Axes>"
      ]
     },
     "metadata": {},
     "output_type": "display_data"
    }
   ],
   "source": [
    "# Total watch counts per year\n",
    "yearly_counts = df['Year'].value_counts().sort_index()\n",
    "sns.barplot(x=yearly_counts.index, y=yearly_counts.values, palette=\"Blues_d\")\n",
    "plt.title(\"Total Watch Activity by Year\")\n",
    "plt.xlabel(\"Year\")\n",
    "plt.ylabel(\"Watch Count\")\n",
    "plt.show()"
   ]
  }
 ],
 "metadata": {
  "kernelspec": {
   "display_name": "Python 3",
   "language": "python",
   "name": "python3"
  },
  "language_info": {
   "codemirror_mode": {
    "name": "ipython",
    "version": 3
   },
   "file_extension": ".py",
   "mimetype": "text/x-python",
   "name": "python",
   "nbconvert_exporter": "python",
   "pygments_lexer": "ipython3",
   "version": "3.12.1"
  }
 },
 "nbformat": 4,
 "nbformat_minor": 5
}
