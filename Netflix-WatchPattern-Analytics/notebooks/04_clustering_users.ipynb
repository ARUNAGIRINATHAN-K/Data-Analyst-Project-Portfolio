{
 "cells": [
  {
   "cell_type": "code",
   "execution_count": 1,
   "id": "98b174ca",
   "metadata": {},
   "outputs": [],
   "source": [
    "import pandas as pd\n",
    "import matplotlib.pyplot as plt\n",
    "import seaborn as sns\n",
    "from sklearn.cluster import KMeans\n",
    "from sklearn.preprocessing import StandardScaler\n",
    "from sklearn.metrics import silhouette_score"
   ]
  },
  {
   "cell_type": "code",
   "execution_count": 2,
   "id": "22d15f76",
   "metadata": {},
   "outputs": [],
   "source": [
    "df = pd.read_csv(\"/workspaces/Data-Analyst-Project-Portfolio/Netflix-WatchPattern-Analytics/data/netflix_cleaned.csv\")"
   ]
  },
  {
   "cell_type": "code",
   "execution_count": 3,
   "id": "a4c04672",
   "metadata": {},
   "outputs": [],
   "source": [
    "df['Date'] = pd.to_datetime(df['Watch_Date'], errors='coerce')\n",
    "df.dropna(subset=['Date'], inplace=True)"
   ]
  },
  {
   "cell_type": "code",
   "execution_count": 8,
   "id": "a7bab274",
   "metadata": {},
   "outputs": [],
   "source": [
    "user_df = df.groupby('User_ID').agg({\n",
    "    'Video_Title': 'count',                          \n",
    "    'Date': [lambda x: x.nunique(), 'min', 'max'] \n",
    "})\n",
    "user_df.columns = ['Total_Watches', 'Active_Days', 'First_Watch', 'Last_Watch']\n",
    "user_df['Watch_Per_Day'] = user_df['Total_Watches'] / user_df['Active_Days']\n",
    "user_df['Watch_Duration'] = (user_df['Last_Watch'] - user_df['First_Watch']).dt.days + 1\n",
    "user_df['Watch_Frequency'] = user_df['Active_Days'] / user_df['Watch_Duration']\n",
    "\n",
    "# Clean\n",
    "user_df.replace([float(\"inf\"), float(\"nan\")], 0, inplace=True)\n",
    "user_df.fillna(0, inplace=True)\n"
   ]
  },
  {
   "cell_type": "code",
   "execution_count": 9,
   "id": "0a0d4f98",
   "metadata": {},
   "outputs": [],
   "source": [
    "features = ['Total_Watches', 'Watch_Per_Day', 'Watch_Frequency']\n",
    "X = user_df[features]\n",
    "\n",
    "# Scale data\n",
    "scaler = StandardScaler()\n",
    "X_scaled = scaler.fit_transform(X)"
   ]
  }
 ],
 "metadata": {
  "kernelspec": {
   "display_name": "Python 3",
   "language": "python",
   "name": "python3"
  },
  "language_info": {
   "codemirror_mode": {
    "name": "ipython",
    "version": 3
   },
   "file_extension": ".py",
   "mimetype": "text/x-python",
   "name": "python",
   "nbconvert_exporter": "python",
   "pygments_lexer": "ipython3",
   "version": "3.12.1"
  }
 },
 "nbformat": 4,
 "nbformat_minor": 5
}
