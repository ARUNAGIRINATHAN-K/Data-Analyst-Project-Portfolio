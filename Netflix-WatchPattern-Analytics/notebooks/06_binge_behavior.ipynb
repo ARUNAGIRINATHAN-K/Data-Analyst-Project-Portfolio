{
 "cells": [
  {
   "cell_type": "code",
   "execution_count": 8,
   "id": "4fcbf59c",
   "metadata": {},
   "outputs": [],
   "source": [
    "import pandas as pd\n",
    "import matplotlib.pyplot as plt\n",
    "import seaborn as sns"
   ]
  },
  {
   "cell_type": "code",
   "execution_count": 2,
   "id": "c28915d8",
   "metadata": {},
   "outputs": [],
   "source": [
    "df = pd.read_csv(\"/workspaces/Data-Analyst-Project-Portfolio/Netflix-WatchPattern-Analytics/data/netflix_cleaned.csv\")"
   ]
  },
  {
   "cell_type": "code",
   "execution_count": 3,
   "id": "53db3934",
   "metadata": {},
   "outputs": [],
   "source": [
    "df['Date'] = pd.to_datetime(df['Watch_Date'], errors='coerce')\n",
    "df.dropna(subset=['Date'], inplace=True)"
   ]
  },
  {
   "cell_type": "code",
   "execution_count": 4,
   "id": "b4adab91",
   "metadata": {},
   "outputs": [],
   "source": [
    "if 'UserID' not in df.columns:\n",
    "    import numpy as np\n",
    "    np.random.seed(42)\n",
    "    df['UserID'] = np.random.choice(range(1, 101), size=len(df))\n"
   ]
  },
  {
   "cell_type": "code",
   "execution_count": 11,
   "id": "7cf1ae60",
   "metadata": {},
   "outputs": [],
   "source": [
    "df['Title'] = df['Video_Title'].str.strip()\n",
    "df.sort_values(by=['UserID', 'Watch_Date', 'Video_Title'], inplace=True)"
   ]
  },
  {
   "cell_type": "code",
   "execution_count": 14,
   "id": "3554210d",
   "metadata": {},
   "outputs": [
    {
     "data": {
      "text/html": [
       "<div>\n",
       "<style scoped>\n",
       "    .dataframe tbody tr th:only-of-type {\n",
       "        vertical-align: middle;\n",
       "    }\n",
       "\n",
       "    .dataframe tbody tr th {\n",
       "        vertical-align: top;\n",
       "    }\n",
       "\n",
       "    .dataframe thead th {\n",
       "        text-align: right;\n",
       "    }\n",
       "</style>\n",
       "<table border=\"1\" class=\"dataframe\">\n",
       "  <thead>\n",
       "    <tr style=\"text-align: right;\">\n",
       "      <th></th>\n",
       "      <th>User_ID</th>\n",
       "      <th>Video_Title</th>\n",
       "      <th>DateOnly</th>\n",
       "      <th>WatchCount</th>\n",
       "    </tr>\n",
       "  </thead>\n",
       "  <tbody>\n",
       "  </tbody>\n",
       "</table>\n",
       "</div>"
      ],
      "text/plain": [
       "Empty DataFrame\n",
       "Columns: [User_ID, Video_Title, DateOnly, WatchCount]\n",
       "Index: []"
      ]
     },
     "execution_count": 14,
     "metadata": {},
     "output_type": "execute_result"
    }
   ],
   "source": [
    "df['DateOnly'] = df['Date'].dt.date\n",
    "binge_df = df.groupby(['User_ID', 'Video_Title', 'DateOnly']).size().reset_index(name='WatchCount')\n",
    "\n",
    "binge_sessions = binge_df[binge_df['WatchCount'] >= 3]\n",
    "binge_sessions.head()"
   ]
  },
  {
   "cell_type": "code",
   "execution_count": 15,
   "id": "13a6a586",
   "metadata": {},
   "outputs": [
    {
     "data": {
      "image/png": "[encoded data removed]",
      "text/plain": [
       "<Figure size 640x480 with 1 Axes>"
      ]
     },
     "metadata": {},
     "output_type": "display_data"
    }
   ],
   "source": [
    "user_binge_counts = binge_sessions.groupby('User_ID').size().reset_index(name='BingeSessions')\n",
    "\n",
    "sns.histplot(user_binge_counts['BingeSessions'], bins=10, kde=True, color=\"purple\")\n",
    "plt.title(\"Distribution of Binge Sessions per User\")\n",
    "plt.xlabel(\"Binge Sessions\")\n",
    "plt.ylabel(\"Number of Users\")\n",
    "plt.show()\n"
   ]
  }
 ],
 "metadata": {
  "kernelspec": {
   "display_name": "Python 3",
   "language": "python",
   "name": "python3"
  },
  "language_info": {
   "codemirror_mode": {
    "name": "ipython",
    "version": 3
   },
   "file_extension": ".py",
   "mimetype": "text/x-python",
   "name": "python",
   "nbconvert_exporter": "python",
   "pygments_lexer": "ipython3",
   "version": "3.12.1"
  }
 },
 "nbformat": 4,
 "nbformat_minor": 5
}
