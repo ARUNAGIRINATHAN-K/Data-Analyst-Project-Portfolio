{
 "cells": [
  {
   "cell_type": "code",
   "execution_count": 1,
   "id": "20666f8b",
   "metadata": {},
   "outputs": [],
   "source": [
    "import pandas as pd\n",
    "import numpy as np"
   ]
  },
  {
   "cell_type": "code",
   "execution_count": 2,
   "id": "be7a0139",
   "metadata": {},
   "outputs": [],
   "source": [
    "df = pd.read_csv(\"/workspaces/Data-Analyst-Project-Portfolio/airbnb_pricing_demand/data/listings.csv\")"
   ]
  },
  {
   "cell_type": "code",
   "execution_count": 3,
   "id": "399fbbcd",
   "metadata": {},
   "outputs": [
    {
     "data": {
      "text/html": [
       "<div>\n",
       "<style scoped>\n",
       "    .dataframe tbody tr th:only-of-type {\n",
       "        vertical-align: middle;\n",
       "    }\n",
       "\n",
       "    .dataframe tbody tr th {\n",
       "        vertical-align: top;\n",
       "    }\n",
       "\n",
       "    .dataframe thead th {\n",
       "        text-align: right;\n",
       "    }\n",
       "</style>\n",
       "<table border=\"1\" class=\"dataframe\">\n",
       "  <thead>\n",
       "    <tr style=\"text-align: right;\">\n",
       "      <th></th>\n",
       "      <th>City</th>\n",
       "      <th>Neighbourhood</th>\n",
       "      <th>Property_Type</th>\n",
       "      <th>Room_Type</th>\n",
       "      <th>Price</th>\n",
       "      <th>Minimum_Nights</th>\n",
       "      <th>Number_of_Reviews</th>\n",
       "      <th>Review_Score</th>\n",
       "      <th>Availability_365</th>\n",
       "      <th>Latitude</th>\n",
       "      <th>Longitude</th>\n",
       "      <th>Host_Since</th>\n",
       "    </tr>\n",
       "  </thead>\n",
       "  <tbody>\n",
       "    <tr>\n",
       "      <th>0</th>\n",
       "      <td>San Francisco</td>\n",
       "      <td>City Center</td>\n",
       "      <td>Condominium</td>\n",
       "      <td>Entire home/apt</td>\n",
       "      <td>179.94</td>\n",
       "      <td>1</td>\n",
       "      <td>41</td>\n",
       "      <td>66.2</td>\n",
       "      <td>223</td>\n",
       "      <td>39.383949</td>\n",
       "      <td>-112.122774</td>\n",
       "      <td>2020-11-14</td>\n",
       "    </tr>\n",
       "    <tr>\n",
       "      <th>1</th>\n",
       "      <td>Boston</td>\n",
       "      <td>Downtown</td>\n",
       "      <td>Apartment</td>\n",
       "      <td>Private room</td>\n",
       "      <td>230.65</td>\n",
       "      <td>7</td>\n",
       "      <td>171</td>\n",
       "      <td>86.9</td>\n",
       "      <td>249</td>\n",
       "      <td>38.012177</td>\n",
       "      <td>-76.070411</td>\n",
       "      <td>2021-03-04</td>\n",
       "    </tr>\n",
       "    <tr>\n",
       "      <th>2</th>\n",
       "      <td>Chicago</td>\n",
       "      <td>City Center</td>\n",
       "      <td>Loft</td>\n",
       "      <td>Shared room</td>\n",
       "      <td>415.40</td>\n",
       "      <td>4</td>\n",
       "      <td>31</td>\n",
       "      <td>83.9</td>\n",
       "      <td>35</td>\n",
       "      <td>37.582870</td>\n",
       "      <td>-106.424718</td>\n",
       "      <td>2021-11-01</td>\n",
       "    </tr>\n",
       "    <tr>\n",
       "      <th>3</th>\n",
       "      <td>San Francisco</td>\n",
       "      <td>Downtown</td>\n",
       "      <td>Townhouse</td>\n",
       "      <td>Private room</td>\n",
       "      <td>432.96</td>\n",
       "      <td>5</td>\n",
       "      <td>85</td>\n",
       "      <td>94.0</td>\n",
       "      <td>346</td>\n",
       "      <td>38.932787</td>\n",
       "      <td>-78.032835</td>\n",
       "      <td>2022-02-01</td>\n",
       "    </tr>\n",
       "    <tr>\n",
       "      <th>4</th>\n",
       "      <td>Chicago</td>\n",
       "      <td>Waterfront</td>\n",
       "      <td>Apartment</td>\n",
       "      <td>Entire home/apt</td>\n",
       "      <td>551.43</td>\n",
       "      <td>4</td>\n",
       "      <td>11</td>\n",
       "      <td>86.1</td>\n",
       "      <td>236</td>\n",
       "      <td>39.557027</td>\n",
       "      <td>-96.398916</td>\n",
       "      <td>2017-06-01</td>\n",
       "    </tr>\n",
       "  </tbody>\n",
       "</table>\n",
       "</div>"
      ],
      "text/plain": [
       "            City Neighbourhood Property_Type        Room_Type   Price  \\\n",
       "0  San Francisco   City Center   Condominium  Entire home/apt  179.94   \n",
       "1         Boston      Downtown     Apartment     Private room  230.65   \n",
       "2        Chicago   City Center          Loft      Shared room  415.40   \n",
       "3  San Francisco      Downtown     Townhouse     Private room  432.96   \n",
       "4        Chicago    Waterfront     Apartment  Entire home/apt  551.43   \n",
       "\n",
       "   Minimum_Nights  Number_of_Reviews  Review_Score  Availability_365  \\\n",
       "0               1                 41          66.2               223   \n",
       "1               7                171          86.9               249   \n",
       "2               4                 31          83.9                35   \n",
       "3               5                 85          94.0               346   \n",
       "4               4                 11          86.1               236   \n",
       "\n",
       "    Latitude   Longitude  Host_Since  \n",
       "0  39.383949 -112.122774  2020-11-14  \n",
       "1  38.012177  -76.070411  2021-03-04  \n",
       "2  37.582870 -106.424718  2021-11-01  \n",
       "3  38.932787  -78.032835  2022-02-01  \n",
       "4  39.557027  -96.398916  2017-06-01  "
      ]
     },
     "execution_count": 3,
     "metadata": {},
     "output_type": "execute_result"
    }
   ],
   "source": [
    "df.head()"
   ]
  },
  {
   "cell_type": "code",
   "execution_count": 4,
   "id": "620a29ca",
   "metadata": {},
   "outputs": [
    {
     "name": "stdout",
     "output_type": "stream",
     "text": [
      "<class 'pandas.core.frame.DataFrame'>\n",
      "RangeIndex: 120 entries, 0 to 119\n",
      "Data columns (total 12 columns):\n",
      " #   Column             Non-Null Count  Dtype  \n",
      "---  ------             --------------  -----  \n",
      " 0   City               120 non-null    object \n",
      " 1   Neighbourhood      120 non-null    object \n",
      " 2   Property_Type      120 non-null    object \n",
      " 3   Room_Type          120 non-null    object \n",
      " 4   Price              120 non-null    float64\n",
      " 5   Minimum_Nights     120 non-null    int64  \n",
      " 6   Number_of_Reviews  120 non-null    int64  \n",
      " 7   Review_Score       120 non-null    float64\n",
      " 8   Availability_365   120 non-null    int64  \n",
      " 9   Latitude           120 non-null    float64\n",
      " 10  Longitude          120 non-null    float64\n",
      " 11  Host_Since         120 non-null    object \n",
      "dtypes: float64(4), int64(3), object(5)\n",
      "memory usage: 11.4+ KB\n"
     ]
    }
   ],
   "source": [
    "df.info()"
   ]
  },
  {
   "cell_type": "code",
   "execution_count": 5,
   "id": "13210bbe",
   "metadata": {},
   "outputs": [],
   "source": [
    "df.columns = df.columns.str.strip().str.lower().str.replace(\" \", \"_\")"
   ]
  },
  {
   "cell_type": "code",
   "execution_count": 6,
   "id": "ceed19da",
   "metadata": {},
   "outputs": [
    {
     "name": "stdout",
     "output_type": "stream",
     "text": [
      "Missing Values Summary:\n",
      " city                 0\n",
      "neighbourhood        0\n",
      "property_type        0\n",
      "room_type            0\n",
      "price                0\n",
      "minimum_nights       0\n",
      "number_of_reviews    0\n",
      "review_score         0\n",
      "availability_365     0\n",
      "latitude             0\n",
      "longitude            0\n",
      "host_since           0\n",
      "dtype: int64\n"
     ]
    }
   ],
   "source": [
    "missing_summary = df.isnull().sum().sort_values(ascending=False)\n",
    "print(\"Missing Values Summary:\\n\", missing_summary)"
   ]
  },
  {
   "cell_type": "code",
   "execution_count": 7,
   "id": "9b9d4ca6",
   "metadata": {},
   "outputs": [],
   "source": [
    "df = df.dropna(subset=['price', 'latitude', 'longitude'])"
   ]
  },
  {
   "cell_type": "code",
   "execution_count": 8,
   "id": "273d8fbf",
   "metadata": {},
   "outputs": [],
   "source": [
    "df['review_score'] = df['review_score'].fillna(df['review_score'].mean())\n",
    "df['number_of_reviews'] = df['number_of_reviews'].fillna(0)\n",
    "df['host_since'] = pd.to_datetime(df['host_since'], errors='coerce')"
   ]
  },
  {
   "cell_type": "code",
   "execution_count": 9,
   "id": "1234c7b1",
   "metadata": {},
   "outputs": [
    {
     "name": "stderr",
     "output_type": "stream",
     "text": [
      "<>:1: SyntaxWarning: invalid escape sequence '\\$'\n",
      "<>:1: SyntaxWarning: invalid escape sequence '\\$'\n",
      "/tmp/ipykernel_5220/1933411505.py:1: SyntaxWarning: invalid escape sequence '\\$'\n",
      "  df['price'] = df['price'].replace('[\\$,]', '', regex=True).astype(float)\n"
     ]
    }
   ],
   "source": [
    "df['price'] = df['price'].replace('[\\$,]', '', regex=True).astype(float)\n",
    "df['minimum_nights'] = df['minimum_nights'].astype(int)\n",
    "df['availability_365'] = df['availability_365'].astype(int)"
   ]
  }
 ],
 "metadata": {
  "kernelspec": {
   "display_name": "Python 3",
   "language": "python",
   "name": "python3"
  },
  "language_info": {
   "codemirror_mode": {
    "name": "ipython",
    "version": 3
   },
   "file_extension": ".py",
   "mimetype": "text/x-python",
   "name": "python",
   "nbconvert_exporter": "python",
   "pygments_lexer": "ipython3",
   "version": "3.12.1"
  }
 },
 "nbformat": 4,
 "nbformat_minor": 5
}
