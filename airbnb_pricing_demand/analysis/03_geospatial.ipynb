{
 "cells": [
  {
   "cell_type": "code",
   "execution_count": 2,
   "id": "cf1ac363",
   "metadata": {},
   "outputs": [
    {
     "name": "stdout",
     "output_type": "stream",
     "text": [
      "Collecting folium\n",
      "  Downloading folium-0.20.0-py2.py3-none-any.whl.metadata (4.2 kB)\n",
      "Collecting branca>=0.6.0 (from folium)\n",
      "  Downloading branca-0.8.1-py3-none-any.whl.metadata (1.5 kB)\n",
      "Requirement already satisfied: jinja2>=2.9 in /home/codespace/.local/lib/python3.12/site-packages (from folium) (3.1.6)\n",
      "Requirement already satisfied: numpy in /home/codespace/.local/lib/python3.12/site-packages (from folium) (2.2.6)\n",
      "Requirement already satisfied: requests in /home/codespace/.local/lib/python3.12/site-packages (from folium) (2.32.3)\n",
      "Collecting xyzservices (from folium)\n",
      "  Downloading xyzservices-2025.4.0-py3-none-any.whl.metadata (4.3 kB)\n",
      "Requirement already satisfied: MarkupSafe>=2.0 in /home/codespace/.local/lib/python3.12/site-packages (from jinja2>=2.9->folium) (3.0.2)\n",
      "Requirement already satisfied: charset-normalizer<4,>=2 in /home/codespace/.local/lib/python3.12/site-packages (from requests->folium) (3.4.2)\n",
      "Requirement already satisfied: idna<4,>=2.5 in /home/codespace/.local/lib/python3.12/site-packages (from requests->folium) (3.10)\n",
      "Requirement already satisfied: urllib3<3,>=1.21.1 in /home/codespace/.local/lib/python3.12/site-packages (from requests->folium) (2.4.0)\n",
      "Requirement already satisfied: certifi>=2017.4.17 in /home/codespace/.local/lib/python3.12/site-packages (from requests->folium) (2025.4.26)\n",
      "Downloading folium-0.20.0-py2.py3-none-any.whl (113 kB)\n",
      "Downloading branca-0.8.1-py3-none-any.whl (26 kB)\n",
      "Downloading xyzservices-2025.4.0-py3-none-any.whl (90 kB)\n",
      "Installing collected packages: xyzservices, branca, folium\n",
      "\u001b[2K   \u001b[90m━━━━━━━━━━━━━━━━━━━━━━━━━━━━━━━━━━━━━━━━\u001b[0m \u001b[32m3/3\u001b[0m [folium]\n",
      "\u001b[1A\u001b[2KSuccessfully installed branca-0.8.1 folium-0.20.0 xyzservices-2025.4.0\n"
     ]
    }
   ],
   "source": [
    "!pip install folium"
   ]
  },
  {
   "cell_type": "code",
   "execution_count": 3,
   "id": "f78117fe",
   "metadata": {},
   "outputs": [],
   "source": [
    "import pandas as pd\n",
    "import folium\n",
    "from folium.plugins import HeatMap\n",
    "import matplotlib.pyplot as plt"
   ]
  },
  {
   "cell_type": "code",
   "execution_count": 4,
   "id": "e5027071",
   "metadata": {},
   "outputs": [
    {
     "name": "stdout",
     "output_type": "stream",
     "text": [
      "Data Loaded: (120, 13)\n"
     ]
    }
   ],
   "source": [
    "df = pd.read_csv('/workspaces/Data-Analyst-Project-Portfolio/airbnb_pricing_demand/data/airbnb_listings_cleaned.csv')\n",
    "print(\"Data Loaded:\", df.shape)"
   ]
  },
  {
   "cell_type": "code",
   "execution_count": 5,
   "id": "f470da65",
   "metadata": {},
   "outputs": [],
   "source": [
    "df_map = df[df['price'] <= df['price'].quantile(0.95)].copy()"
   ]
  },
  {
   "cell_type": "code",
   "execution_count": 6,
   "id": "48d203d5",
   "metadata": {},
   "outputs": [],
   "source": [
    "default_location = [df_map['latitude'].mean(), df_map['longitude'].mean()]\n",
    "base_map = folium.Map(location=default_location, zoom_start=11)"
   ]
  },
  {
   "cell_type": "code",
   "execution_count": 7,
   "id": "0c816c77",
   "metadata": {},
   "outputs": [],
   "source": [
    "heat_price = df_map[['latitude', 'longitude', 'price']].dropna()\n",
    "heat_data = [[row['latitude'], row['longitude'], row['price']] for _, row in heat_price.iterrows()]"
   ]
  },
  {
   "cell_type": "code",
   "execution_count": 8,
   "id": "80e921c7",
   "metadata": {},
   "outputs": [
    {
     "name": "stdout",
     "output_type": "stream",
     "text": [
      "✅ Saved: city_price_heatmap.html\n"
     ]
    }
   ],
   "source": [
    "HeatMap(heat_data, radius=10, max_zoom=13).add_to(base_map)\n",
    "base_map.save('/workspaces/Data-Analyst-Project-Portfolio/airbnb_pricing_demand/Visual/city_price_heatmap.html')\n",
    "print(\"✅ Saved: city_price_heatmap.html\")"
   ]
  },
  {
   "cell_type": "code",
   "execution_count": 9,
   "id": "6c4edfb4",
   "metadata": {},
   "outputs": [],
   "source": [
    "heat_demand = df_map[['latitude', 'longitude', 'number_of_reviews']].dropna()\n",
    "demand_data = [[row['latitude'], row['longitude'], row['number_of_reviews']] for _, row in heat_demand.iterrows()]"
   ]
  },
  {
   "cell_type": "code",
   "execution_count": 10,
   "id": "7a6fa126",
   "metadata": {},
   "outputs": [
    {
     "name": "stdout",
     "output_type": "stream",
     "text": [
      "✅ Saved: city_demand_heatmap.html\n"
     ]
    }
   ],
   "source": [
    "demand_map = folium.Map(location=default_location, zoom_start=11)\n",
    "HeatMap(demand_data, radius=10, max_zoom=13).add_to(demand_map)\n",
    "demand_map.save('/workspaces/Data-Analyst-Project-Portfolio/airbnb_pricing_demand/Visual/city_demand_heatmap.html')\n",
    "print(\"✅ Saved: city_demand_heatmap.html\")"
   ]
  }
 ],
 "metadata": {
  "kernelspec": {
   "display_name": "Python 3",
   "language": "python",
   "name": "python3"
  },
  "language_info": {
   "codemirror_mode": {
    "name": "ipython",
    "version": 3
   },
   "file_extension": ".py",
   "mimetype": "text/x-python",
   "name": "python",
   "nbconvert_exporter": "python",
   "pygments_lexer": "ipython3",
   "version": "3.12.1"
  }
 },
 "nbformat": 4,
 "nbformat_minor": 5
}
