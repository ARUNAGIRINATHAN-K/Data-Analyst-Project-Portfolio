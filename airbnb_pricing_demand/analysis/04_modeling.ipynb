{
 "cells": [
  {
   "cell_type": "code",
   "execution_count": 1,
   "id": "c316b577",
   "metadata": {},
   "outputs": [],
   "source": [
    "import pandas as pd\n",
    "import numpy as np\n",
    "from sklearn.model_selection import train_test_split\n",
    "from sklearn.preprocessing import OneHotEncoder, StandardScaler\n",
    "from sklearn.compose import ColumnTransformer\n",
    "from sklearn.pipeline import Pipeline\n",
    "from sklearn.ensemble import RandomForestRegressor\n",
    "from sklearn.linear_model import LinearRegression\n",
    "from sklearn.metrics import mean_absolute_error, r2_score"
   ]
  },
  {
   "cell_type": "code",
   "execution_count": 2,
   "id": "1f4937ec",
   "metadata": {},
   "outputs": [
    {
     "name": "stdout",
     "output_type": "stream",
     "text": [
      "Data Shape: <bound method DataFrame.info of               city neighbourhood property_type        room_type   price  \\\n",
      "0    San Francisco   City Center   Condominium  Entire home/apt  179.94   \n",
      "1           Boston      Downtown     Apartment     Private room  230.65   \n",
      "2          Chicago   City Center          Loft      Shared room  415.40   \n",
      "3    San Francisco      Downtown     Townhouse     Private room  432.96   \n",
      "4          Chicago    Waterfront     Apartment  Entire home/apt  551.43   \n",
      "..             ...           ...           ...              ...     ...   \n",
      "115  San Francisco   City Center         House      Shared room  528.53   \n",
      "116         Boston      Downtown         House      Shared room  399.68   \n",
      "117         Boston       Suburbs          Loft      Shared room  488.72   \n",
      "118        Chicago      Downtown   Condominium     Private room  372.36   \n",
      "119  San Francisco    Waterfront     Apartment  Entire home/apt  145.24   \n",
      "\n",
      "     minimum_nights  number_of_reviews  review_score  availability_365  \\\n",
      "0                 1                 41          66.2               223   \n",
      "1                 7                171          86.9               249   \n",
      "2                 4                 31          83.9                35   \n",
      "3                 5                 85          94.0               346   \n",
      "4                 4                 11          86.1               236   \n",
      "..              ...                ...           ...               ...   \n",
      "115               9                  3          87.0                58   \n",
      "116               9                164          81.7               359   \n",
      "117               7                 75          84.3               276   \n",
      "118               8                 92          87.4                99   \n",
      "119               8                 94          68.7               232   \n",
      "\n",
      "      latitude   longitude  host_since  host_years  \n",
      "0    39.383949 -112.122774  2020-11-14           5  \n",
      "1    38.012177  -76.070411  2021-03-04           4  \n",
      "2    37.582870 -106.424718  2021-11-01           4  \n",
      "3    38.932787  -78.032835  2022-02-01           3  \n",
      "4    39.557027  -96.398916  2017-06-01           8  \n",
      "..         ...         ...         ...         ...  \n",
      "115  38.854993  -72.697449  2019-05-18           6  \n",
      "116  39.601603 -117.734762  2016-09-09           9  \n",
      "117  40.791215  -91.263664  2022-03-08           3  \n",
      "118  37.653643  -82.759721  2017-07-23           8  \n",
      "119  40.633635 -101.802110  2020-03-09           5  \n",
      "\n",
      "[120 rows x 13 columns]>\n"
     ]
    }
   ],
   "source": [
    "df = pd.read_csv('/workspaces/Data-Analyst-Project-Portfolio/airbnb_pricing_demand/data/airbnb_listings_cleaned.csv')\n",
    "print(\"Data Shape:\", df.info)"
   ]
  },
  {
   "cell_type": "code",
   "execution_count": 3,
   "id": "6b8c627a",
   "metadata": {},
   "outputs": [],
   "source": [
    "features = ['room_type', 'property_type', 'minimum_nights', 'availability_365',\n",
    "            'number_of_reviews', 'review_score', 'host_years', 'city']\n",
    "target = 'price'"
   ]
  },
  {
   "cell_type": "code",
   "execution_count": 4,
   "id": "5c6f6135",
   "metadata": {},
   "outputs": [
    {
     "name": "stdout",
     "output_type": "stream",
     "text": [
      "Model Data Shape: (120, 9)\n"
     ]
    }
   ],
   "source": [
    "df_model = df[features + [target]].dropna()\n",
    "print(\"Model Data Shape:\", df_model.shape)"
   ]
  },
  {
   "cell_type": "code",
   "execution_count": 5,
   "id": "9bdca4f1",
   "metadata": {},
   "outputs": [],
   "source": [
    "X = df_model[features]\n",
    "y = df_model[target]"
   ]
  },
  {
   "cell_type": "code",
   "execution_count": 6,
   "id": "1020cdec",
   "metadata": {},
   "outputs": [],
   "source": [
    "X_train, X_test, y_train, y_test = train_test_split(\n",
    "    X, y, test_size=0.2, random_state=42)"
   ]
  },
  {
   "cell_type": "code",
   "execution_count": 7,
   "id": "f6973e86",
   "metadata": {},
   "outputs": [],
   "source": [
    "numeric_features = ['minimum_nights', 'availability_365', 'number_of_reviews',\n",
    "                    'review_score', 'host_years']\n",
    "categorical_features = ['room_type', 'property_type', 'city']\n",
    "\n",
    "preprocessor = ColumnTransformer([\n",
    "    ('num', StandardScaler(), numeric_features),\n",
    "    ('cat', OneHotEncoder(handle_unknown='ignore'), categorical_features)\n",
    "])\n"
   ]
  }
 ],
 "metadata": {
  "kernelspec": {
   "display_name": "Python 3",
   "language": "python",
   "name": "python3"
  },
  "language_info": {
   "codemirror_mode": {
    "name": "ipython",
    "version": 3
   },
   "file_extension": ".py",
   "mimetype": "text/x-python",
   "name": "python",
   "nbconvert_exporter": "python",
   "pygments_lexer": "ipython3",
   "version": "3.12.1"
  }
 },
 "nbformat": 4,
 "nbformat_minor": 5
}
