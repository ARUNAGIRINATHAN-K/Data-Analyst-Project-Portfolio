{
 "cells": [
  {
   "cell_type": "code",
   "execution_count": null,
   "id": "9b2e1ea2",
   "metadata": {},
   "outputs": [],
   "source": [
    "import pandas as pd\n",
    "import numpy as numpy\n",
    "import matplotlib as plt"
   ]
  },
  {
   "cell_type": "code",
   "execution_count": 4,
   "id": "8991374a",
   "metadata": {},
   "outputs": [],
   "source": [
    "df = pd.read_csv(\"/workspaces/Data-Analyst-Project-Portfolio/ecommerce-return-prediction/data/ecommerce_transactions_returns.csv\")"
   ]
  },
  {
   "cell_type": "code",
   "execution_count": 6,
   "id": "c0e80926",
   "metadata": {},
   "outputs": [
    {
     "data": {
      "text/html": [
       "<div>\n",
       "<style scoped>\n",
       "    .dataframe tbody tr th:only-of-type {\n",
       "        vertical-align: middle;\n",
       "    }\n",
       "\n",
       "    .dataframe tbody tr th {\n",
       "        vertical-align: top;\n",
       "    }\n",
       "\n",
       "    .dataframe thead th {\n",
       "        text-align: right;\n",
       "    }\n",
       "</style>\n",
       "<table border=\"1\" class=\"dataframe\">\n",
       "  <thead>\n",
       "    <tr style=\"text-align: right;\">\n",
       "      <th></th>\n",
       "      <th>Customer_ID</th>\n",
       "      <th>Product_ID</th>\n",
       "      <th>Category</th>\n",
       "      <th>Location</th>\n",
       "      <th>Order_Date</th>\n",
       "      <th>Delivery_Date</th>\n",
       "      <th>Payment_Method</th>\n",
       "      <th>Price</th>\n",
       "      <th>Quantity</th>\n",
       "      <th>Total_Amount</th>\n",
       "      <th>Returned</th>\n",
       "      <th>Return_Date</th>\n",
       "      <th>Return_Reason</th>\n",
       "    </tr>\n",
       "  </thead>\n",
       "  <tbody>\n",
       "    <tr>\n",
       "      <th>0</th>\n",
       "      <td>CUST_0001</td>\n",
       "      <td>PROD_003</td>\n",
       "      <td>Sports</td>\n",
       "      <td>Hyderabad</td>\n",
       "      <td>09-03-2024</td>\n",
       "      <td>15-03-2024</td>\n",
       "      <td>COD</td>\n",
       "      <td>1623.67</td>\n",
       "      <td>2</td>\n",
       "      <td>3247.34</td>\n",
       "      <td>No</td>\n",
       "      <td>NaN</td>\n",
       "      <td>NaN</td>\n",
       "    </tr>\n",
       "    <tr>\n",
       "      <th>1</th>\n",
       "      <td>CUST_0001</td>\n",
       "      <td>PROD_018</td>\n",
       "      <td>Clothing</td>\n",
       "      <td>Mumbai</td>\n",
       "      <td>26-06-2024</td>\n",
       "      <td>03-07-2024</td>\n",
       "      <td>COD</td>\n",
       "      <td>4385.84</td>\n",
       "      <td>1</td>\n",
       "      <td>4385.84</td>\n",
       "      <td>No</td>\n",
       "      <td>NaN</td>\n",
       "      <td>NaN</td>\n",
       "    </tr>\n",
       "    <tr>\n",
       "      <th>2</th>\n",
       "      <td>CUST_0001</td>\n",
       "      <td>PROD_005</td>\n",
       "      <td>Electronics</td>\n",
       "      <td>Bangalore</td>\n",
       "      <td>25-04-2024</td>\n",
       "      <td>27-04-2024</td>\n",
       "      <td>Debit Card</td>\n",
       "      <td>1473.51</td>\n",
       "      <td>1</td>\n",
       "      <td>1473.51</td>\n",
       "      <td>No</td>\n",
       "      <td>NaN</td>\n",
       "      <td>NaN</td>\n",
       "    </tr>\n",
       "    <tr>\n",
       "      <th>3</th>\n",
       "      <td>CUST_0001</td>\n",
       "      <td>PROD_007</td>\n",
       "      <td>Beauty</td>\n",
       "      <td>Delhi</td>\n",
       "      <td>01-05-2024</td>\n",
       "      <td>11-05-2024</td>\n",
       "      <td>Net Banking</td>\n",
       "      <td>3161.29</td>\n",
       "      <td>1</td>\n",
       "      <td>3161.29</td>\n",
       "      <td>No</td>\n",
       "      <td>NaN</td>\n",
       "      <td>NaN</td>\n",
       "    </tr>\n",
       "    <tr>\n",
       "      <th>4</th>\n",
       "      <td>CUST_0001</td>\n",
       "      <td>PROD_008</td>\n",
       "      <td>Home</td>\n",
       "      <td>Pune</td>\n",
       "      <td>17-04-2024</td>\n",
       "      <td>23-04-2024</td>\n",
       "      <td>Debit Card</td>\n",
       "      <td>3118.51</td>\n",
       "      <td>2</td>\n",
       "      <td>6237.02</td>\n",
       "      <td>No</td>\n",
       "      <td>NaN</td>\n",
       "      <td>NaN</td>\n",
       "    </tr>\n",
       "  </tbody>\n",
       "</table>\n",
       "</div>"
      ],
      "text/plain": [
       "  Customer_ID Product_ID     Category   Location  Order_Date Delivery_Date  \\\n",
       "0   CUST_0001   PROD_003       Sports  Hyderabad  09-03-2024    15-03-2024   \n",
       "1   CUST_0001   PROD_018     Clothing     Mumbai  26-06-2024    03-07-2024   \n",
       "2   CUST_0001   PROD_005  Electronics  Bangalore  25-04-2024    27-04-2024   \n",
       "3   CUST_0001   PROD_007       Beauty      Delhi  01-05-2024    11-05-2024   \n",
       "4   CUST_0001   PROD_008         Home       Pune  17-04-2024    23-04-2024   \n",
       "\n",
       "  Payment_Method    Price  Quantity  Total_Amount Returned Return_Date  \\\n",
       "0            COD  1623.67         2       3247.34       No         NaN   \n",
       "1            COD  4385.84         1       4385.84       No         NaN   \n",
       "2     Debit Card  1473.51         1       1473.51       No         NaN   \n",
       "3    Net Banking  3161.29         1       3161.29       No         NaN   \n",
       "4     Debit Card  3118.51         2       6237.02       No         NaN   \n",
       "\n",
       "  Return_Reason  \n",
       "0           NaN  \n",
       "1           NaN  \n",
       "2           NaN  \n",
       "3           NaN  \n",
       "4           NaN  "
      ]
     },
     "execution_count": 6,
     "metadata": {},
     "output_type": "execute_result"
    }
   ],
   "source": [
    "df.head()"
   ]
  },
  {
   "cell_type": "code",
   "execution_count": 8,
   "id": "d13b1514",
   "metadata": {},
   "outputs": [
    {
     "data": {
      "text/plain": [
       "(150, 13)"
      ]
     },
     "execution_count": 8,
     "metadata": {},
     "output_type": "execute_result"
    }
   ],
   "source": [
    "df.shape"
   ]
  },
  {
   "cell_type": "code",
   "execution_count": 10,
   "id": "30a216c2",
   "metadata": {},
   "outputs": [
    {
     "data": {
      "text/plain": [
       "Customer_ID         0\n",
       "Product_ID          0\n",
       "Category            0\n",
       "Location            0\n",
       "Order_Date          0\n",
       "Delivery_Date       0\n",
       "Payment_Method      0\n",
       "Price               0\n",
       "Quantity            0\n",
       "Total_Amount        0\n",
       "Returned            0\n",
       "Return_Date       121\n",
       "Return_Reason     121\n",
       "dtype: int64"
      ]
     },
     "execution_count": 10,
     "metadata": {},
     "output_type": "execute_result"
    }
   ],
   "source": [
    "df.isnull().sum()"
   ]
  }
 ],
 "metadata": {
  "kernelspec": {
   "display_name": "Python 3",
   "language": "python",
   "name": "python3"
  },
  "language_info": {
   "codemirror_mode": {
    "name": "ipython",
    "version": 3
   },
   "file_extension": ".py",
   "mimetype": "text/x-python",
   "name": "python",
   "nbconvert_exporter": "python",
   "pygments_lexer": "ipython3",
   "version": "3.12.1"
  }
 },
 "nbformat": 4,
 "nbformat_minor": 5
}
