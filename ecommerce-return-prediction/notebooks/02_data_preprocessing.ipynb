{
 "cells": [
  {
   "cell_type": "code",
   "execution_count": 1,
   "id": "ae4fe4f1",
   "metadata": {},
   "outputs": [],
   "source": [
    "import pandas as pd\n",
    "import numpy as numpy\n",
    "import matplotlib.pyplot as plt\n",
    "import seaborn as sns"
   ]
  },
  {
   "cell_type": "code",
   "execution_count": 2,
   "id": "1be9f9b1",
   "metadata": {},
   "outputs": [],
   "source": [
    "df = pd.read_csv(\"/workspaces/Data-Analyst-Project-Portfolio/ecommerce-return-prediction/data/ecommerce_transactions_returns.csv\")"
   ]
  },
  {
   "cell_type": "code",
   "execution_count": 3,
   "id": "dc346f35",
   "metadata": {},
   "outputs": [],
   "source": [
    "# Convert dates\n",
    "df['Order_Date'] = pd.to_datetime(df['Order_Date'], dayfirst=True)\n",
    "df['Delivery_Date'] = pd.to_datetime(df['Delivery_Date'], dayfirst=True)"
   ]
  },
  {
   "cell_type": "code",
   "execution_count": 4,
   "id": "021d7bf9",
   "metadata": {},
   "outputs": [],
   "source": [
    "# Feature: delivery time\n",
    "df['Delivery_Duration'] = (df['Delivery_Date'] - df['Order_Date']).dt.days"
   ]
  },
  {
   "cell_type": "code",
   "execution_count": 5,
   "id": "187f5724",
   "metadata": {},
   "outputs": [],
   "source": [
    "# Drop columns with too many missing values\n",
    "df = df.drop(columns=['Return_Date', 'Return_Reason'])"
   ]
  },
  {
   "cell_type": "code",
   "execution_count": 6,
   "id": "b0de21a9",
   "metadata": {},
   "outputs": [],
   "source": [
    "# Encode target\n",
    "df['Returned'] = df['Returned'].map({'Yes': 1, 'No': 0})"
   ]
  }
 ],
 "metadata": {
  "kernelspec": {
   "display_name": "Python 3",
   "language": "python",
   "name": "python3"
  },
  "language_info": {
   "codemirror_mode": {
    "name": "ipython",
    "version": 3
   },
   "file_extension": ".py",
   "mimetype": "text/x-python",
   "name": "python",
   "nbconvert_exporter": "python",
   "pygments_lexer": "ipython3",
   "version": "3.12.1"
  }
 },
 "nbformat": 4,
 "nbformat_minor": 5
}
